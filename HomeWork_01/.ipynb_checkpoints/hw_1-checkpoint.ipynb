{
 "cells": [
  {
   "cell_type": "code",
   "execution_count": 1,
   "id": "5f94832e-1ee8-4b42-b1f5-f70f2cd65477",
   "metadata": {},
   "outputs": [],
   "source": [
    "import cv2\n",
    "import numpy as np\n",
    "from matplotlib import pyplot as plt\n",
    "plt.rcParams['figure.figsize'] = [15, 10]"
   ]
  },
  {
   "cell_type": "code",
   "execution_count": 5,
   "id": "b506bb53-0dbc-4d5f-bb21-c439e540630b",
   "metadata": {},
   "outputs": [
    {
     "ename": "NameError",
     "evalue": "name 'Image' is not defined",
     "output_type": "error",
     "traceback": [
      "\u001b[1;31m---------------------------------------------------------------------------\u001b[0m",
      "\u001b[1;31mNameError\u001b[0m                                 Traceback (most recent call last)",
      "Cell \u001b[1;32mIn[5], line 5\u001b[0m\n\u001b[0;32m      3\u001b[0m \u001b[38;5;28;01mfrom\u001b[39;00m \u001b[38;5;21;01mmatplotlib\u001b[39;00m \u001b[38;5;28;01mimport\u001b[39;00m pyplot \u001b[38;5;28;01mas\u001b[39;00m plt\n\u001b[0;32m      4\u001b[0m \u001b[38;5;66;03m# Load an image (you can freely chose any image you like)\u001b[39;00m\n\u001b[1;32m----> 5\u001b[0m img \u001b[38;5;241m=\u001b[39m Image\u001b[38;5;241m.\u001b[39mopen(\u001b[38;5;124mr\u001b[39m\u001b[38;5;124m\"\u001b[39m\u001b[38;5;124mHomeWork/HomeWork_01/Cat_0.jpg\u001b[39m\u001b[38;5;124m\"\u001b[39m)\n\u001b[0;32m      6\u001b[0m \u001b[38;5;66;03m# Convert it to RGB\u001b[39;00m\n\u001b[0;32m      7\u001b[0m img \u001b[38;5;241m=\u001b[39m img\u001b[38;5;241m.\u001b[39mconvert(\u001b[38;5;124m'\u001b[39m\u001b[38;5;124mRGB\u001b[39m\u001b[38;5;124m'\u001b[39m)\n",
      "\u001b[1;31mNameError\u001b[0m: name 'Image' is not defined"
     ]
    }
   ],
   "source": [
    "# Load an image (you can freely chose any image you like)\n",
    "img = Image.open(r\"HomeWork/HomeWork_01/Cat_0.jpg\")\n",
    "# Convert it to RGB\n",
    "img = img.convert('RGB')\n",
    "# Plot it\n",
    "plt.imshow(img)"
   ]
  },
  {
   "cell_type": "code",
   "execution_count": null,
   "id": "aa3a312a-5844-4b84-afb1-d04d268b9292",
   "metadata": {},
   "outputs": [],
   "source": [
    "\n",
    "# Load an image using PIL and convert it to a format compatible with OpenCV\n",
    "img = Image.open('example.jpg')\n",
    "img = img.convert('RGB')\n",
    "img = np.array(img)\n",
    "\n",
    "# Split the image into the three color channels\n",
    "blue, green, red = cv2.split(img)\n",
    "\n",
    "# Compose the image in the RGB color space\n",
    "img1 = cv2.merge([red, green, blue])\n",
    "\n",
    "# Compose the image in the RBG color space\n",
    "img2 = cv2.merge([red, blue, green])\n",
    "\n",
    "# Compose the image in the GRB color space\n",
    "img3 = cv2.merge([green, red, blue])\n",
    "\n",
    "# Compose the image in the BGR color space\n",
    "img4 = cv2.merge([blue, green, red])\n",
    "\n",
    "# Create the collage\n",
    "out1 = np.hstack([img1, img2])\n",
    "out2 = np.hstack([img3, img4])\n",
    "out = np.vstack([out1, out2])\n",
    "\n",
    "# Convert the final collage image to RGB for plotting with matplotlib\n",
    "out = cv2.cvtColor(out, cv2.COLOR_BGR2RGB)\n",
    "\n",
    "# Plot the collage\n",
    "plt.imshow(out)\n",
    "plt.axis('Fal')  # Hide axes\n",
    "plt.show()"
   ]
  }
 ],
 "metadata": {
  "kernelspec": {
   "display_name": "Python 3 (ipykernel)",
   "language": "python",
   "name": "python3"
  },
  "language_info": {
   "codemirror_mode": {
    "name": "ipython",
    "version": 3
   },
   "file_extension": ".py",
   "mimetype": "text/x-python",
   "name": "python",
   "nbconvert_exporter": "python",
   "pygments_lexer": "ipython3",
   "version": "3.11.9"
  }
 },
 "nbformat": 4,
 "nbformat_minor": 5
}
